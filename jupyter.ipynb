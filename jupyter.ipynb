{
 "cells": [
  {
   "cell_type": "code",
   "execution_count": 1,
   "metadata": {},
   "outputs": [
    {
     "name": "stdout",
     "output_type": "stream",
     "text": [
      "Hello world\n"
     ]
    }
   ],
   "source": [
    "print(\"Hello world\")"
   ]
  },
  {
   "cell_type": "code",
   "execution_count": 3,
   "metadata": {},
   "outputs": [],
   "source": [
    "import numpy as np\n"
   ]
  },
  {
   "cell_type": "code",
   "execution_count": 4,
   "metadata": {},
   "outputs": [
    {
     "data": {
      "text/plain": [
       "'1.25.0'"
      ]
     },
     "execution_count": 4,
     "metadata": {},
     "output_type": "execute_result"
    }
   ],
   "source": [
    "np.__version__"
   ]
  },
  {
   "cell_type": "code",
   "execution_count": null,
   "metadata": {},
   "outputs": [],
   "source": [
    "a = (1, 2, 3)\n",
    "b = [5, 6, 7, 8, 9]\n",
    "c = {'hello': 4, 'to': 5, 'the': 6, 'world': 7}\n",
    "d = {1, 2, 3}\n",
    "e = {1, 4, 5}"
   ]
  },
  {
   "cell_type": "code",
   "execution_count": null,
   "metadata": {},
   "outputs": [],
   "source": [
    "for k in e:\n",
    "    print(k)\n",
    "\n",
    "for k in c:\n",
    "    print(k)\n",
    "\n",
    "for k in c.values():\n",
    "    print(k)"
   ]
  },
  {
   "cell_type": "code",
   "execution_count": null,
   "metadata": {},
   "outputs": [],
   "source": [
    "t = 0\n",
    "while t < len(c):\n",
    "    t += 1\n",
    "    print(t) "
   ]
  },
  {
   "cell_type": "code",
   "execution_count": 38,
   "metadata": {},
   "outputs": [
    {
     "name": "stdout",
     "output_type": "stream",
     "text": [
      "to not in c\n"
     ]
    }
   ],
   "source": [
    "if 'cat' in c:\n",
    "    print('to is in c')\n",
    "else: \n",
    "    print('to not in c')"
   ]
  },
  {
   "cell_type": "code",
   "execution_count": 8,
   "metadata": {},
   "outputs": [
    {
     "data": {
      "text/plain": [
       "4096"
      ]
     },
     "execution_count": 8,
     "metadata": {},
     "output_type": "execute_result"
    }
   ],
   "source": [
    "def pow (base: int | float, degree: int | float) -> float: \n",
    "    out = base ** degree\n",
    "    return out\n",
    "\n",
    "pow(2, 10)\n",
    "\n",
    "a = 4\n",
    "b = 6\n",
    "\n",
    "pow(a, b)\n"
   ]
  },
  {
   "cell_type": "code",
   "execution_count": 9,
   "metadata": {},
   "outputs": [],
   "source": [
    "from numpy import linspace\n",
    "linspace(0, 1, 11)\n",
    "\n",
    "import numpy as np\n",
    "np.linspace(0, 1, 11)\n",
    "\n",
    "import numpy, scipy, pandas"
   ]
  },
  {
   "cell_type": "code",
   "execution_count": 11,
   "metadata": {},
   "outputs": [],
   "source": [
    "class Subject:\n",
    "    def init(\n",
    "        self,\n",
    "        age: int,\n",
    "        name: str,\n",
    "        gender: bool,\n",
    "        homedir: str = '../data'\n",
    "    ):\n",
    "        self.age = age\n",
    "        self.name = name\n",
    "        self.gender = gender\n",
    "        self.homedir = homedir\n",
    "        self.data = None\n",
    "\n",
    "def __repr__(self) -> str:\n",
    "    if self.gender:\n",
    "        gender = 'Male'\n",
    "    else:\n",
    "        gender = 'Female'\n",
    "\n",
    "    # out_str = gender + ' Subject ' + self.name + ' of age ' + str(self.age)\n",
    "    out_str = f'{gender} Subject {self.name} of age {self.age}'\n",
    "\n",
    "    return out_str\n",
    "\n",
    "def read(self, datatype: str):\n",
    "    if datatype == 'eeg':\n",
    "        path = self.homedir + '/eeg/' + self.name + '.edf'\n",
    "        readfunc = mne.io.read_raw_edf\n",
    "    elif datatype == 'eog':\n",
    "        path = self.homedir + '/eog/' + self.name + '.edf'\n",
    "        readfunc = mne.io.read_raw_edf\n",
    "    elif datatype == 'ecg':\n",
    "        path = self.homedir + '/ecg/' + self.name + '.edf'\n",
    "        readfunc = mne.io.read_raw_edf\n",
    "    elif datatype == 'meg':\n",
    "        path = self.homedir + '/meg/' + self.name + '.fif'\n",
    "        readfunc = mne.io.read_raw_fif\n",
    "    elif datatype == 'fmri':\n",
    "        path = self.homedir + '/fmri/' + self.name + '.nii'\n",
    "        readfunc = nb.load\n",
    "\n",
    "    self.data = readfunc(path, preload=True)\n"
   ]
  },
  {
   "cell_type": "code",
   "execution_count": 1,
   "metadata": {},
   "outputs": [],
   "source": [
    "from mylibrary import power"
   ]
  }
 ],
 "metadata": {
  "kernelspec": {
   "display_name": "venv",
   "language": "python",
   "name": "python3"
  },
  "language_info": {
   "codemirror_mode": {
    "name": "ipython",
    "version": 3
   },
   "file_extension": ".py",
   "mimetype": "text/x-python",
   "name": "python",
   "nbconvert_exporter": "python",
   "pygments_lexer": "ipython3",
   "version": "3.11.4"
  },
  "orig_nbformat": 4
 },
 "nbformat": 4,
 "nbformat_minor": 2
}
